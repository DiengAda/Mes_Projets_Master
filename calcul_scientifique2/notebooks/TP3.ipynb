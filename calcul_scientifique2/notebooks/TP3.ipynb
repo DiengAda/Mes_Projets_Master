{
  "cells": [
    {
      "cell_type": "markdown",
      "metadata": {
        "id": "JYDvN7vC3oOE"
      },
      "source": []
    },
    {
      "cell_type": "markdown",
      "metadata": {
        "id": "eXMBjHaX3qD-"
      },
      "source": [
        "# **TP 3 : Méthode de Lanczos**"
      ]
    },
    {
      "cell_type": "code",
      "execution_count": 1,
      "metadata": {
        "id": "bKgpsBlkXAbn"
      },
      "outputs": [],
      "source": [
        "import numpy as np\n",
        "import matplotlib.pyplot as plt\n",
        "import scipy as sp\n",
        "import scipy.sparse as spsp\n",
        "import scipy.sparse.linalg as spsplin\n",
        "import time\n"
      ]
    },
    {
      "cell_type": "markdown",
      "metadata": {
        "id": "Z01OgarBW_jO"
      },
      "source": [
        "### **PARTIE 1: (Lanczos)**"
      ]
    },
    {
      "cell_type": "markdown",
      "metadata": {
        "id": "iy7RdBfA8t3G"
      },
      "source": [
        "**Question 1: programmation de la fonction iter_Arlnoldi**"
      ]
    },
    {
      "cell_type": "code",
      "execution_count": 2,
      "metadata": {
        "id": "ux0dihpIcsnY"
      },
      "outputs": [],
      "source": [
        "#definition de la fonction iter_Arnoldi_sym\n",
        "\n",
        "def iter_Arnoldi_sym( A, v, vold, beta):\n",
        "  \n",
        "    w = A @ v\n",
        "    alpha = w @ v \n",
        "    w -= alpha * v + beta * vold\n",
        "    beta = np.linalg.norm(w)\n",
        "    vold[:] = v \n",
        "    v[:] = w/beta\n",
        "    return beta , alpha\n",
        "    "
      ]
    },
    {
      "cell_type": "markdown",
      "metadata": {
        "id": "qOrgX2xIQLKh"
      },
      "source": [
        "**Question 2: programmation de la fonction de Lanzos**"
      ]
    },
    {
      "cell_type": "code",
      "execution_count": 3,
      "metadata": {
        "id": "a2H4Uh_Ln6s_"
      },
      "outputs": [],
      "source": [
        "def Lanczos(A, nbiter):\n",
        "  \n",
        "  #initialisations\n",
        "\n",
        "    n = A.shape[0]\n",
        "    eigval = np.zeros((nbiter, nbiter))\n",
        "    v = np.random.rand(n)\n",
        "    Tdiag = []\n",
        "    Tsupdiag = []\n",
        "    v /= np.linalg.norm(v)\n",
        "    vold = np.zeros(n)\n",
        "    beta = 0\n",
        "    for i in range(nbiter ):\n",
        "      ##calcul des valeurs alpha et beta\n",
        "      #on fait appel a la fonction iter_Arnoldi pour cela \n",
        "      beta, alpha = iter_Arnoldi_sym(A, v, vold, beta) \n",
        "        ## assemblage de Tp\n",
        "      Tdiag.append(alpha)\n",
        "      Tsupdiag.append(beta)\n",
        "      T = np.diag(Tdiag) + np.diag(Tsupdiag[:-1],-1) + np.diag(Tsupdiag[:-1],1)\n",
        "      valpro = np.linalg.eig(T)[0] ## on recupere juste les valeurs propres en mettant [0]\n",
        "\n",
        "        #on trie les valeurs propres\n",
        "      valpro.sort() \n",
        "      eigval[i,:i+1] = valpro\n",
        "        \n",
        "    return  eigval"
      ]
    },
    {
      "cell_type": "markdown",
      "metadata": {
        "id": "M0C_qbQ6JKwe"
      },
      "source": [
        "**Question 3: test du programme**"
      ]
    },
    {
      "cell_type": "markdown",
      "metadata": {
        "id": "2enwJgFCQwnV"
      },
      "source": [
        "test du programme"
      ]
    },
    {
      "cell_type": "code",
      "execution_count": 4,
      "metadata": {},
      "outputs": [],
      "source": [
        "#on teste la programme sur une matrice A donnée\n",
        "d = 10\n",
        "n = d**2\n",
        "A = spsp.diags([[4.]*n,[-1]*(n-1),[-1]*(n-1),[-1]*(n-d),[-1]*(n-d)], [0,1,-1,d,-d])\n",
        "nbiter = 40\n",
        "\n",
        "eigval = Lanczos(A, nbiter)"
      ]
    },
    {
      "cell_type": "code",
      "execution_count": 5,
      "metadata": {},
      "outputs": [
        {
          "name": "stdout",
          "output_type": "stream",
          "text": [
            "La plus grande valeur de Ritz de A par lanczos est :  7.822545692988354\n",
            "La plus grande valeur propre de A par spsplin.eigsh est :  7.822545694160664\n"
          ]
        }
      ],
      "source": [
        "## on récupère les valeurs de Ritz de la matrice tridiagonale de Lanczos et on recupere la plus grande\n",
        "MaxRitz = np.diag(eigval)[1:]\n",
        "Max_Ritz = np.max(MaxRitz)\n",
        "\n",
        "## on recupere les valeurs propres de A par la fonction eigsh de scipy.sparse.linalg et on recupere la plus grande\n",
        "Max_eigval_eigsh = spsplin.eigsh(A, k=1, which='LM', return_eigenvectors=False)\n",
        "MaxEigval_eigsh = Max_eigval_eigsh[0]\n",
        "\n",
        "print(\"La plus grande valeur de Ritz de A par lanczos est : \", Max_Ritz)\n",
        "print(\"La plus grande valeur propre de A par spsplin.eigsh est : \", MaxEigval_eigsh)"
      ]
    },
    {
      "cell_type": "code",
      "execution_count": 6,
      "metadata": {
        "colab": {
          "base_uri": "https://localhost:8080/"
        },
        "id": "_017N9yeoKr-",
        "outputId": "223f6a1e-f00d-4d8a-e9eb-109f1fa7e1ec"
      },
      "outputs": [
        {
          "name": "stdout",
          "output_type": "stream",
          "text": [
            "La plus petite valeur de Ritz de A par lanczos est :  0.08390553830039053\n",
            "La plus petite valeur propre de A par spsplin.eigsh est :  0.08390553830039059\n"
          ]
        }
      ],
      "source": [
        "## On recupere la plus petite valeur de Ritz\n",
        "MinRitz = eigval[:, 0]\n",
        "Min_Ritz = np.min(MinRitz)\n",
        "\n",
        "## on recupere la plus petite valeur propre de A par la fonction eigsh de scipy.sparse.linalg\n",
        "Min_eigval_eigsh = spsplin.eigsh(A, k=1, which='SM', return_eigenvectors=False)\n",
        "MinEigval_eigsh = Min_eigval_eigsh[0]\n",
        "\n",
        "print(\"La plus petite valeur de Ritz de A par lanczos est : \", Min_Ritz)\n",
        "print(\"La plus petite valeur propre de A par spsplin.eigsh est : \", MinEigval_eigsh)\n"
      ]
    },
    {
      "cell_type": "markdown",
      "metadata": {},
      "source": [
        "Affichage la convergence des erreurs entre la plus grande valeur de RITZ  et la plus grande valeur propre."
      ]
    },
    {
      "cell_type": "code",
      "execution_count": 7,
      "metadata": {},
      "outputs": [
        {
          "name": "stdout",
          "output_type": "stream",
          "text": [
            "L'erreur est de :  [2.65792205 1.37701734 0.72147906 0.46186929 0.32443232]\n",
            "Erreur a le derniere iteration :  1.1723066961621953e-09\n",
            "Erreur a la premiere iteration :  2.657922051441867\n"
          ]
        }
      ],
      "source": [
        "## l'erreur\n",
        "valpropres = np.linalg.eig(A.toarray())[0]\n",
        "erreur = np.abs(MaxRitz - np.max(valpropres))\n",
        "\n",
        "##Affichage de l'erreur\n",
        "print(\"L'erreur est de : \", erreur[:5])\n",
        "print(\"Erreur a le derniere iteration : \", erreur[nbiter-2])\n",
        "print(\"Erreur a la premiere iteration : \", erreur[0])"
      ]
    },
    {
      "cell_type": "markdown",
      "metadata": {},
      "source": [
        "Tracons l'erreur a l'echelle logarithmique."
      ]
    },
    {
      "cell_type": "code",
      "execution_count": 8,
      "metadata": {},
      "outputs": [
        {
          "data": {
            "image/png": "[encoded data removed]",
            "text/plain": [
              "<Figure size 640x480 with 1 Axes>"
            ]
          },
          "metadata": {},
          "output_type": "display_data"
        }
      ],
      "source": [
        "## Erreur entre la plus grande valeur de Ritz et la plus grande valeur propre en fonction du nombre d'itérations\n",
        "plt.plot(erreur)\n",
        "plt.ylabel(\"Erreur\")\n",
        "plt.xlabel(\"Nombre d'itérations\")\n",
        "plt.yscale('log')\n",
        "plt.show()\n"
      ]
    },
    {
      "cell_type": "markdown",
      "metadata": {},
      "source": [
        "Verification de convergence de la plus petite valeur propre de Ritz vers la plus petite valeur propre."
      ]
    },
    {
      "cell_type": "code",
      "execution_count": 9,
      "metadata": {},
      "outputs": [
        {
          "name": "stdout",
          "output_type": "stream",
          "text": [
            "Erreur 1 :  [1.08853497 0.1722184  0.06756789 0.03494559 0.01398025]\n",
            "erreur a la dernier iteratiion :  9.200973316580985e-15\n",
            "erreur a la premiere iteratiion :  1.0885349715087314\n"
          ]
        }
      ],
      "source": [
        "erreur1 = np.abs(MinRitz - np.min(valpropres))\n",
        "\n",
        "print(\"Erreur 1 : \", erreur1[:5])\n",
        "print(\"erreur a la dernier iteratiion : \", erreur1[nbiter-2])\n",
        "print(\"erreur a la premiere iteratiion : \", erreur1[0])"
      ]
    },
    {
      "cell_type": "code",
      "execution_count": 10,
      "metadata": {},
      "outputs": [
        {
          "data": {
            "image/png": "[encoded data removed]",
            "text/plain": [
              "<Figure size 640x480 with 1 Axes>"
            ]
          },
          "metadata": {},
          "output_type": "display_data"
        }
      ],
      "source": [
        "## Erreur entre la plus grande valeur de Ritz et la plus grande valeur propre en fonction du nombre d'itérations\n",
        "plt.plot(erreur1)\n",
        "plt.ylabel(\"Erreur\")\n",
        "plt.xlabel(\"Nombre d'itérations\")\n",
        "plt.yscale('log')\n",
        "plt.show()"
      ]
    },
    {
      "cell_type": "markdown",
      "metadata": {},
      "source": [
        "Estimation du conditionnement de la matrice A"
      ]
    },
    {
      "cell_type": "code",
      "execution_count": 11,
      "metadata": {},
      "outputs": [
        {
          "name": "stdout",
          "output_type": "stream",
          "text": [
            "le conditionnement de la matrice A est :  93.23038565291247\n"
          ]
        }
      ],
      "source": [
        "print(\"le conditionnement de la matrice A est : \",np.linalg.cond(A.toarray()))"
      ]
    },
    {
      "cell_type": "markdown",
      "metadata": {
        "id": "I4JWRzGNsBWb"
      },
      "source": [
        "**Question 5:**"
      ]
    },
    {
      "cell_type": "code",
      "execution_count": 12,
      "metadata": {},
      "outputs": [
        {
          "name": "stdout",
          "output_type": "stream",
          "text": [
            "Conditionnement de B :  inf\n",
            "Determinant de B :  0.0\n"
          ]
        }
      ],
      "source": [
        "##  On definit L\n",
        "L = np.concatenate((np.arange(0, 2,0.01), np.arange(2, 3.1, 0.5 )))\n",
        "\n",
        "## On definit la matrice B et on calcul son determinant et son conditionnement\n",
        "B = spsp.diags( L, 0, dtype=np.float64)\n",
        "det = np.linalg.det(B.toarray())\n",
        "condi = np.linalg.cond(B.toarray())\n",
        "#print(B)\n",
        "#print(B.todense())\n",
        "print(\"Conditionnement de B : \", condi)\n",
        "print(\"Determinant de B : \", det)"
      ]
    },
    {
      "cell_type": "markdown",
      "metadata": {},
      "source": [
        "#### Commentaire:\n",
        "Il est constaté que le déterminant de la matrice B est égal à zéro, ce qui indique que la matrice B est singulière. Lorsqu'une matrice a un déterminant nul, son conditionnement devient infini. Le conditionnement d'une matrice est une mesure de la sensibilité des solutions d'un système linéaire aux perturbations des données du système.\n",
        "\n",
        "Un conditionnement élevé signifie que les solutions du système sont extrêmement sensibles aux perturbations importantes des coefficients de la matrice."
      ]
    },
    {
      "cell_type": "code",
      "execution_count": 13,
      "metadata": {},
      "outputs": [],
      "source": [
        "def Lanczos_printRitz(A, nbiter):\n",
        "    n = A.shape[0]\n",
        "    v = np.random.rand(n)\n",
        "    v /= np.linalg.norm(v)\n",
        "    vold = np.zeros(n)\n",
        "    beta = 0\n",
        "    T = np.zeros((nbiter+2, nbiter+1))\n",
        "    eigenarray = np.zeros((nbiter, nbiter))\n",
        "    i = 0\n",
        "    for i in range(nbiter):\n",
        "        beta, alpha = iter_Arnoldi_sym(A, v, vold, beta)\n",
        "        T[i, i] = alpha\n",
        "        T[i+1, i] = beta\n",
        "        T[i, i+1] = beta\n",
        "        eigval = np.linalg.eigvals(T[:i+1, :i+1])\n",
        "        eigval.sort()\n",
        "        eigenarray[i, :i+1] = eigval\n",
        "        i += 1\n",
        "        print( i, \" --> \", eigval[-2:])\n"
      ]
    },
    {
      "cell_type": "code",
      "execution_count": 14,
      "metadata": {
        "colab": {
          "base_uri": "https://localhost:8080/"
        },
        "id": "YN8mAJkAshuj",
        "outputId": "cf2bc04c-f24c-43df-81c2-33560634e6b5"
      },
      "outputs": [
        {
          "name": "stdout",
          "output_type": "stream",
          "text": [
            "1  -->  [1.08050083]\n",
            "2  -->  [0.49937585 1.6362358 ]\n",
            "3  -->  [1.30933075 2.16179975]\n",
            "4  -->  [1.67719195 2.83023213]\n",
            "5  -->  [1.82199976 2.97495433]\n",
            "6  -->  [1.95495781 2.99333634]\n",
            "7  -->  [2.24148085 2.99817787]\n",
            "8  -->  [2.4416309  2.99973725]\n",
            "9  -->  [2.49101333 2.99997881]\n",
            "10  -->  [2.49864674 2.9999984 ]\n",
            "11  -->  [2.49979941 2.99999988]\n",
            "12  -->  [2.49996916 2.99999999]\n",
            "13  -->  [2.49999567 3.        ]\n",
            "14  -->  [2.49999934 3.        ]\n",
            "15  -->  [2.4999999 3.       ]\n",
            "16  -->  [2.49999999 3.        ]\n",
            "17  -->  [2.5 3. ]\n",
            "18  -->  [2.5 3. ]\n",
            "19  -->  [2.5 3. ]\n",
            "20  -->  [2.5 3. ]\n",
            "21  -->  [2.5 3. ]\n",
            "22  -->  [2.5 3. ]\n",
            "23  -->  [2.5 3. ]\n",
            "24  -->  [2.5 3. ]\n",
            "25  -->  [2.5 3. ]\n",
            "26  -->  [2.5 3. ]\n",
            "27  -->  [2.5 3. ]\n",
            "28  -->  [2.5 3. ]\n",
            "29  -->  [2.5 3. ]\n",
            "30  -->  [2.5 3. ]\n",
            "31  -->  [2.5 3. ]\n",
            "32  -->  [2.5 3. ]\n",
            "33  -->  [2.5 3. ]\n",
            "34  -->  [2.5 3. ]\n",
            "35  -->  [2.5 3. ]\n",
            "36  -->  [2.85662419 3.        ]\n",
            "37  -->  [2.9899933 3.       ]\n",
            "38  -->  [2.99932766 3.        ]\n",
            "39  -->  [2.99995779 3.        ]\n",
            "40  -->  [2.99999705 3.        ]\n"
          ]
        }
      ],
      "source": [
        "nbiter = 40\n",
        "Lanczos_printRitz(B, nbiter)      "
      ]
    },
    {
      "cell_type": "markdown",
      "metadata": {},
      "source": []
    },
    {
      "cell_type": "markdown",
      "metadata": {
        "id": "LNjpp2tJ4e9F"
      },
      "source": [
        "Commentaire:\n",
        "\n",
        " On remarque que ces deux valeurs propres ne sont pas ordonnées constamemnt, tantot l'une est plus grande tantot l'autre. Les deux valeurs propres les plus significatives de la matrice B sont attendues comme étant 3 et 2,5. Cependant, il est remarqué qu'après la 34ème itération, la valeur propre de 2,5 n'apparaît plus dans la liste des valeurs propres calculées. Au lieu de cela, cette valeur propre augmente progressivement jusqu'à atteindre 2,99999967, ce qui est considéré comme une valeur propre \"fantôme\"."
      ]
    },
    {
      "cell_type": "markdown",
      "metadata": {
        "id": "29m1qQBr5MTI"
      },
      "source": [
        "### **PARTIE 2: (Methodes QR)**"
      ]
    },
    {
      "cell_type": "markdown",
      "metadata": {
        "id": "o_PvEoE_6Dq5"
      },
      "source": [
        "**Queston 6: Programmation fonction facto_QRhessenberg**"
      ]
    },
    {
      "cell_type": "markdown",
      "metadata": {
        "id": "EDeQ_wOK7JMM"
      },
      "source": [
        "on definit d'abord la fonction givens"
      ]
    },
    {
      "cell_type": "code",
      "execution_count": 15,
      "metadata": {
        "id": "hsH1Dmqd57d4"
      },
      "outputs": [],
      "source": [
        "## fonction GIVENS\n",
        "def Givens(n, k, c, s):\n",
        "    G = np.diag(np.ones(n))\n",
        "    G[k,k] = c\n",
        "    G[k, k+1] = -s\n",
        "    G[k+1, k] = s\n",
        "    G[k+1, k+1] = c\n",
        "    return G\n",
        "\n",
        "#on definit maintenant la fonction facto_QR_hessenberg en appellant la fonction Givens\n",
        "def facto_QR_hessenberg(A):\n",
        "    R = np.copy(A)\n",
        "    n = A.shape[0]\n",
        "    \n",
        "    Q = np.diag(np.ones(n))\n",
        "    for k in range(n-1):\n",
        "        # on suppose c positif\n",
        "        c = R[k,k]/np.sqrt(R[k,k]**2 + R[k+1,k]**2)\n",
        "        s = -R[k+1,k]/np.sqrt(R[k,k]**2 + R[k+1,k]**2)\n",
        "        G = Givens(n, k, c, s)\n",
        "        R = G @ R\n",
        "        Q = Q @ G.T\n",
        "        Q = Q.T\n",
        "    return Q, R\n"
      ]
    },
    {
      "cell_type": "markdown",
      "metadata": {
        "id": "9wGkSQge7qi5"
      },
      "source": [
        "**Question 7: Testons la fonction sur une matrice aléatoire petite de taille**"
      ]
    },
    {
      "cell_type": "code",
      "execution_count": 16,
      "metadata": {
        "colab": {
          "base_uri": "https://localhost:8080/"
        },
        "id": "BHt6WtW6RbTg",
        "outputId": "5933b225-ffde-4045-d263-332d0f2d0b01"
      },
      "outputs": [
        {
          "name": "stdout",
          "output_type": "stream",
          "text": [
            "A= \n",
            " [[0.47715266 0.8922793  0.64124791 0.90098108]\n",
            " [0.90065329 0.52901519 0.1272364  0.08368855]\n",
            " [0.         0.21343512 0.64499463 0.59807438]\n",
            " [0.         0.         0.62803369 0.69914016]]\n",
            "\n",
            "Q= \n",
            " [[ 0.46814535 -0.82195467 -0.32439244  0.        ]\n",
            " [-0.88365148 -0.4354593  -0.17185827  0.        ]\n",
            " [ 0.         -0.20198177  0.51178709  0.83503134]\n",
            " [ 0.         -0.30654377  0.77672921 -0.55020238]]\n",
            "\n",
            "R= \n",
            " [[ 1.01924041e+00  8.85181456e-01  4.12629865e-01  4.95741614e-01]\n",
            " [ 5.16353463e-17  5.81401543e-01  7.08450876e-01  9.23678443e-01]\n",
            " [-1.12122407e-17 -1.52711838e-17  7.52107928e-01  7.36995569e-01]\n",
            " [-1.70165973e-17 -2.31767755e-17  0.00000000e+00 -1.52172660e-01]]\n",
            "\n",
            "Q@R= \n",
            " [[ 4.77152659e-01 -6.34921290e-02 -6.33121875e-01 -7.66218465e-01]\n",
            " [-9.00653291e-01 -1.03536861e+00 -8.02378480e-01 -9.66945962e-01]\n",
            " [-3.03770708e-17 -1.17432514e-01  2.41824964e-01  6.35496680e-02]\n",
            " [-1.51747959e-17 -1.78225018e-01  3.67012994e-01  3.73023875e-01]]\n",
            "\n",
            "||A-Q@R||=  3.7068954812934662\n"
          ]
        }
      ],
      "source": [
        "n = 4\n",
        "A = np.triu(np.random.rand(n,n),k=-1)\n",
        "Q, R = facto_QR_hessenberg(A)\n",
        "error = np.linalg.norm(A - Q@R)\n",
        "print(\"A= \\n\", A)\n",
        "print()\n",
        "print(\"Q= \\n\", Q)\n",
        "print()\n",
        "print(\"R= \\n\", R)\n",
        "print()\n",
        "print(\"Q@R= \\n\", Q@R)\n",
        "print()\n",
        "print(\"||A-Q@R||= \", error)\n",
        "\n",
        "## les valeurs sous la partie inferieure de R sont  tres nulles (ordre de 10^-18)"
      ]
    },
    {
      "cell_type": "markdown",
      "metadata": {
        "id": "EV-xkx2-93GM"
      },
      "source": [
        "**Question 8: Programmons la fonction QR_hessenberg**"
      ]
    },
    {
      "cell_type": "code",
      "execution_count": 17,
      "metadata": {
        "id": "tNZA2StCdADZ"
      },
      "outputs": [],
      "source": [
        "def QR_hessenberg(A):\n",
        "  A_p = A.copy()\n",
        "  max_iter = 2000\n",
        "  for i in range(max_iter):\n",
        "      Q, R = np.linalg.qr(A_p)\n",
        "      A_p = R.dot(Q)\n",
        "  eigenvalues = np.diag(A_p) \n",
        "  np.sort(eigenvalues)\n",
        "  eigenvalues = eigenvalues[::-1]\n",
        "  return eigenvalues"
      ]
    },
    {
      "cell_type": "markdown",
      "metadata": {
        "id": "wmH33qsU-2Yq"
      },
      "source": [
        "**Question 9: Testons la fonction sur une matrice aléatoire, symétrique, tridiagonale et petite de taille**"
      ]
    },
    {
      "cell_type": "code",
      "execution_count": 18,
      "metadata": {
        "colab": {
          "base_uri": "https://localhost:8080/"
        },
        "id": "ZVE3NAqZHmwH",
        "outputId": "12eebd59-c4dc-495c-e14f-a85d5c0bb999"
      },
      "outputs": [
        {
          "name": "stdout",
          "output_type": "stream",
          "text": [
            "A= \n",
            " [[ 4. -1.  0.  0.  0.  0.]\n",
            " [-1.  4. -1.  0.  0.  0.]\n",
            " [ 0. -1.  4. -1.  0.  0.]\n",
            " [ 0.  0. -1.  4. -1.  0.]\n",
            " [ 0.  0.  0. -1.  4. -1.]\n",
            " [ 0.  0.  0.  0. -1.  4.]]\n"
          ]
        }
      ],
      "source": [
        "n = 6\n",
        "A = spsp.diags([[4.]*n, [-1]*(n-1), [-1]*(n-1)], [0, 1, -1])\n",
        "A = A.toarray()\n",
        "print(\"A= \\n\", A)"
      ]
    },
    {
      "cell_type": "code",
      "execution_count": 19,
      "metadata": {
        "colab": {
          "base_uri": "https://localhost:8080/"
        },
        "id": "hzmi5KFly2B7",
        "outputId": "93504234-47aa-438e-b776-817ebb1d0b6b"
      },
      "outputs": [
        {
          "name": "stdout",
          "output_type": "stream",
          "text": [
            "Valeurs propres obtenus par la méthode QR: \n",
            " [2.19806226 2.7530204  3.55495813 4.44504187 5.2469796  5.80193774]\n"
          ]
        }
      ],
      "source": [
        "## Valeur propres obtenus par la méthode QR\n",
        "valpro = QR_hessenberg(A)\n",
        "print(\"Valeurs propres obtenus par la méthode QR: \\n\", valpro)\n"
      ]
    },
    {
      "cell_type": "code",
      "execution_count": 20,
      "metadata": {
        "colab": {
          "base_uri": "https://localhost:8080/"
        },
        "id": "c3yIl9BFH09W",
        "outputId": "e4f2cbc9-1ffc-4080-a1c0-7167d29b8105"
      },
      "outputs": [
        {
          "name": "stdout",
          "output_type": "stream",
          "text": [
            "les valeurs propres obtenues par la fonction numpy.linalg.eigvals sont: \n",
            " [2.19806226 2.7530204  3.55495813 4.44504187 5.2469796  5.80193774]\n"
          ]
        }
      ],
      "source": [
        "#les valeurs propres obtenues par la fonction numpy.linalg.eigvals.\n",
        "val = np.linalg.eigvals(A)\n",
        "val = np.sort(val)\n",
        "print(\"les valeurs propres obtenues par la fonction numpy.linalg.eigvals sont: \\n\", val)"
      ]
    },
    {
      "cell_type": "markdown",
      "metadata": {
        "id": "WiWQ1DT_VBYm"
      },
      "source": [
        "**Que se passe-t-il pour une matrice de Hessenberg\n",
        "quelconque:**"
      ]
    },
    {
      "cell_type": "code",
      "execution_count": 21,
      "metadata": {
        "colab": {
          "base_uri": "https://localhost:8080/"
        },
        "id": "_S6SBGj8YlC4",
        "outputId": "cd260491-6ed7-406b-bdf9-bdb400bc5e2e"
      },
      "outputs": [
        {
          "name": "stdout",
          "output_type": "stream",
          "text": [
            "A_rand = \n",
            " [[0.36635783 0.         0.         0.         0.         0.        ]\n",
            " [0.26782192 0.12733879 0.         0.         0.         0.        ]\n",
            " [0.38672202 0.80547234 0.65219153 0.         0.         0.        ]\n",
            " [0.57236548 0.25158125 0.91564524 0.52971484 0.         0.        ]\n",
            " [0.63097278 0.27564795 0.80877159 0.27404422 0.32250649 0.        ]\n",
            " [0.47022792 0.95866636 0.18449562 0.52522113 0.10935592 0.70187803]]\n"
          ]
        }
      ],
      "source": [
        "n = 6\n",
        "A_rand = np.tril(np.random.rand(n,n))\n",
        "print(\"A_rand = \\n\", A_rand)"
      ]
    },
    {
      "cell_type": "code",
      "execution_count": 22,
      "metadata": {},
      "outputs": [
        {
          "data": {
            "text/plain": [
              "array([0.12733879, 0.32250649, 0.36635783, 0.52971484, 0.65219153,\n",
              "       0.70187803])"
            ]
          },
          "execution_count": 22,
          "metadata": {},
          "output_type": "execute_result"
        }
      ],
      "source": [
        "## valeurs propres obtenues par la méthode QR\n",
        "valpro  = QR_hessenberg(A_rand)\n",
        "np.sort(valpro)"
      ]
    },
    {
      "cell_type": "code",
      "execution_count": 23,
      "metadata": {},
      "outputs": [
        {
          "name": "stdout",
          "output_type": "stream",
          "text": [
            "les valeurs propres obtenues par la fonction numpy.linalg.eigvals sont: \n",
            " [0.12733879 0.32250649 0.36635783 0.52971484 0.65219153 0.70187803]\n"
          ]
        }
      ],
      "source": [
        "#les valeurs propres obtenues par la fonction numpy.linalg.eigvals.\n",
        "val = np.linalg.eigvals(A_rand)\n",
        "val = np.sort(val)\n",
        "print(\"les valeurs propres obtenues par la fonction numpy.linalg.eigvals sont: \\n\", val)"
      ]
    },
    {
      "cell_type": "markdown",
      "metadata": {
        "id": "xTIob1KXeGga"
      },
      "source": [
        "Avec une matrice de Hessenberg, on remarque que les valeurs propres sont proches de 0"
      ]
    },
    {
      "cell_type": "markdown",
      "metadata": {
        "id": "xilhr4MWWJOH"
      },
      "source": [
        "**Question 10: Remplacer la fonction np.linalg.eig par votre fonction\n",
        "QR_hessenberg dand l'algo de Lanczos**"
      ]
    },
    {
      "cell_type": "code",
      "execution_count": 24,
      "metadata": {
        "id": "0UcWT7Tj0aai"
      },
      "outputs": [],
      "source": [
        "## on reprends la fonction Lanczos\n",
        "def Lanczos1(A, nbiter):\n",
        "  \n",
        "  #initialisations\n",
        "\n",
        "    n = A.shape[0]\n",
        "    eigval = np.zeros((nbiter, nbiter))\n",
        "    v = np.random.rand(n)\n",
        "    v /= np.linalg.norm(v)\n",
        "    vold = np.zeros(n)\n",
        "    beta = 0\n",
        "    T = np.zeros((nbiter+2, nbiter+1))\n",
        "    i = 0\n",
        "    for i in range(nbiter ):\n",
        "      ##calcul des valeurs alpha et beta, on fait appel a la fonvtion iter_Arnoldi pour cela \n",
        "      beta, alpha = iter_Arnoldi_sym(A, v, vold, beta)\n",
        "       \n",
        "      ## assemblage de Tp\n",
        "      T[i, i] = alpha\n",
        "      T[i+1, i] = beta\n",
        "      T[i, i+1] = beta\n",
        "      valpro = QR_hessenberg(T[:i+1, :i+1])\n",
        "      eigval[i,:i+1] = valpro\n",
        "      i += 1\n",
        "        \n",
        "    return  eigval"
      ]
    },
    {
      "cell_type": "code",
      "execution_count": 25,
      "metadata": {
        "colab": {
          "base_uri": "https://localhost:8080/",
          "height": 383
        },
        "id": "YaLWTGEK1b6f",
        "outputId": "af8a4756-1041-4769-d084-d60bf70242e2"
      },
      "outputs": [],
      "source": [
        "#on teste la programme sur une matrice A donnée\n",
        "d = 10\n",
        "n = d**2\n",
        "A = spsp.diags([[4.]*n,[-1]*(n-1),[-1]*(n-1),[-1]*(n-d),[-1]*(n-d)], [0,1,-1,d,-d])\n",
        "nbiter = 40\n",
        "eigval = Lanczos1(A, nbiter)\n",
        "\n",
        "\n",
        "### Probleme à pour cette question!!!!!!!!!!!!!"
      ]
    },
    {
      "cell_type": "markdown",
      "metadata": {},
      "source": [
        "Vérifier que le calcul des valeurs propres fonctionne encore."
      ]
    },
    {
      "cell_type": "code",
      "execution_count": 26,
      "metadata": {},
      "outputs": [
        {
          "name": "stdout",
          "output_type": "stream",
          "text": [
            "La plus grande valeur de Ritz de A par lanczos est :  7.8218124954451955\n",
            "La plus grande valeur propre de A par spsplin.eigsh est :  7.822545694160666\n"
          ]
        }
      ],
      "source": [
        "## on récupère les valeurs de Ritz de la matrice tridiagonale de Lanczos et on recupere la plus grande\n",
        "MaxRitz = np.diag(eigval)[1:]\n",
        "Max_Ritz = np.max(MaxRitz)\n",
        "\n",
        "## on recupere les valeurs propres de A par la fonction eigsh de scipy.sparse.linalg et on recupere la plus grande\n",
        "Max_eigval_eigsh = spsplin.eigsh(A, k=1, which='LA', return_eigenvectors=False)\n",
        "MaxEigval_eigsh = Max_eigval_eigsh[0]\n",
        "\n",
        "print(\"La plus grande valeur de Ritz de A par lanczos est : \", Max_Ritz)\n",
        "print(\"La plus grande valeur propre de A par spsplin.eigsh est : \", MaxEigval_eigsh)"
      ]
    },
    {
      "cell_type": "code",
      "execution_count": 27,
      "metadata": {},
      "outputs": [
        {
          "name": "stdout",
          "output_type": "stream",
          "text": [
            "La plus petite valeur de Ritz de A par lanczos est :  0.0839055383003905\n",
            "La plus petite valeur propre de A par spsplin.eigsh est :  0.08390553830038996\n"
          ]
        }
      ],
      "source": [
        "## On recupere la plus petite valeur de Ritz\n",
        "MinRitz = eigval[:, 0]\n",
        "Min_Ritz = np.min(MinRitz)\n",
        "\n",
        "## on recupere la plus petite valeur propre de A par la fonction eigsh de scipy.sparse.linalg\n",
        "Min_eigval_eigsh = spsplin.eigsh(A, k=1, which='SA', return_eigenvectors=False)\n",
        "MinEigval_eigsh = Min_eigval_eigsh[0]\n",
        "\n",
        "print(\"La plus petite valeur de Ritz de A par lanczos est : \", Min_Ritz)\n",
        "print(\"La plus petite valeur propre de A par spsplin.eigsh est : \", MinEigval_eigsh)\n"
      ]
    },
    {
      "cell_type": "markdown",
      "metadata": {},
      "source": [
        "Affichage la convergence des erreurs entre la plus grande valeur de RITZ  et la plus grande valeur propre."
      ]
    },
    {
      "cell_type": "code",
      "execution_count": 28,
      "metadata": {},
      "outputs": [
        {
          "name": "stdout",
          "output_type": "stream",
          "text": [
            "L'erreur est :  [2.60426056 0.85394619 0.41308416 0.22441381 0.09823847]\n",
            "Erreur a la premiere iteration :  2.6042605574110853\n",
            "Erreur a le derniere iteration :  0.0007331987154648445\n"
          ]
        }
      ],
      "source": [
        "## l'erreur\n",
        "valpropres = np.linalg.eig(A.toarray())[0]\n",
        "erreur = np.abs(MaxRitz - np.max(valpropres))\n",
        "\n",
        "##Affichage de l'erreur\n",
        "print(\"L'erreur est : \", erreur[:5]) ## les 5 premieres valeurs\n",
        "print(\"Erreur a la premiere iteration : \", erreur[0])\n",
        "print(\"Erreur a le derniere iteration : \", erreur[nbiter-2])"
      ]
    },
    {
      "cell_type": "markdown",
      "metadata": {},
      "source": [
        "Tracons l'erreur a l'echelle logarithmique."
      ]
    },
    {
      "cell_type": "code",
      "execution_count": 29,
      "metadata": {},
      "outputs": [
        {
          "data": {
            "image/png": "[encoded data removed]",
            "text/plain": [
              "<Figure size 640x480 with 1 Axes>"
            ]
          },
          "metadata": {},
          "output_type": "display_data"
        }
      ],
      "source": [
        "## Erreur entre la plus grande valeur de Ritz et la plus grande valeur propre en fonction du nombre d'itérations\n",
        "plt.plot(erreur)\n",
        "plt.ylabel(\"Erreur\")\n",
        "plt.xlabel(\"Nombre d'itérations\")\n",
        "plt.yscale('log')\n",
        "plt.show()\n"
      ]
    },
    {
      "cell_type": "markdown",
      "metadata": {},
      "source": [
        "Verification de convergence de la plus petite valeur propre de Ritz vers la plus petite valeur propre."
      ]
    },
    {
      "cell_type": "code",
      "execution_count": 30,
      "metadata": {},
      "outputs": [
        {
          "name": "stdout",
          "output_type": "stream",
          "text": [
            "Erreur 1 :  [0.91224031 0.18710083 0.06046866 0.02830421 0.01289576]\n",
            "erreur a la dernier iteratiion :  8.784639682346551e-15\n",
            "erreur a la premiere iteratiion :  0.9122403072647685\n"
          ]
        }
      ],
      "source": [
        "erreur1 = np.abs(MinRitz - np.min(valpropres))\n",
        "\n",
        "print(\"Erreur 1 : \", erreur1[:5])\n",
        "print(\"erreur a la dernier iteratiion : \", erreur1[nbiter-2])\n",
        "print(\"erreur a la premiere iteratiion : \", erreur1[0])"
      ]
    },
    {
      "cell_type": "code",
      "execution_count": 31,
      "metadata": {},
      "outputs": [
        {
          "data": {
            "image/png": "[encoded data removed]",
            "text/plain": [
              "<Figure size 640x480 with 1 Axes>"
            ]
          },
          "metadata": {},
          "output_type": "display_data"
        }
      ],
      "source": [
        "## Erreur entre la plus grande valeur de Ritz et la plus grande valeur propre en fonction du nombre d'itérations\n",
        "plt.plot(erreur1)\n",
        "plt.ylabel(\"Erreur\")\n",
        "plt.xlabel(\"Nombre d'itérations\")\n",
        "plt.yscale('log')\n",
        "plt.show()"
      ]
    },
    {
      "cell_type": "markdown",
      "metadata": {},
      "source": [
        "**Commentaire:**\n",
        "\n",
        "Dans la fonction `Lanczos `, En remplacant `np.linanlg.eig` par la fonction `QR_hessenberg`, on obtient des reultats similaires\n",
        "\n"
      ]
    },
    {
      "cell_type": "markdown",
      "metadata": {},
      "source": [
        "**Comparons les temps de calculs**"
      ]
    },
    {
      "cell_type": "code",
      "execution_count": 32,
      "metadata": {},
      "outputs": [],
      "source": [
        "n = 25\n",
        "A = spsp.diags([[4.]*n,[-1]*(n-1),[-1]*(n-1),[-1]*(n-d),[-1]*(n-d)], [0,1,-1,d,-d])\n",
        "A = A.toarray() "
      ]
    },
    {
      "cell_type": "code",
      "execution_count": 33,
      "metadata": {},
      "outputs": [
        {
          "name": "stdout",
          "output_type": "stream",
          "text": [
            "Temps d'execution de la methode de Hessenberg :  0.4962947368621826\n",
            "\n",
            " Temps d'execution de la methode de numpy :  0.00042700767517089844\n"
          ]
        }
      ],
      "source": [
        "debutHSBRG = time.time()\n",
        "QR_hessenberg(A)\n",
        "finHSBRG = time.time()\n",
        "tmpHSBRG = finHSBRG - debutHSBRG\n",
        "\n",
        "debutNP = time.time()\n",
        "np.linalg.eigvals(A)\n",
        "finNP = time.time()\n",
        "tmpNP = finNP - debutNP\n",
        "\n",
        "\n",
        "print(\"Temps d'execution de la methode de Hessenberg : \", tmpHSBRG)\n",
        "print(\"\\n Temps d'execution de la methode de numpy : \", tmpNP)\n",
        "\n",
        "\n",
        "\n"
      ]
    },
    {
      "cell_type": "markdown",
      "metadata": {},
      "source": [
        "On voit clairement que la fonction `np.linalg.eigvals` de `numpy` est plus rapide que notre fonction `QR_hessenberg` ."
      ]
    },
    {
      "cell_type": "markdown",
      "metadata": {
        "id": "N3NvZX-lV0-5"
      },
      "source": [
        "****"
      ]
    }
  ],
  "metadata": {
    "colab": {
      "provenance": []
    },
    "kernelspec": {
      "display_name": "Python 3",
      "name": "python3"
    },
    "language_info": {
      "codemirror_mode": {
        "name": "ipython",
        "version": 3
      },
      "file_extension": ".py",
      "mimetype": "text/x-python",
      "name": "python",
      "nbconvert_exporter": "python",
      "pygments_lexer": "ipython3",
      "version": "3.10.12"
    }
  },
  "nbformat": 4,
  "nbformat_minor": 0
}
