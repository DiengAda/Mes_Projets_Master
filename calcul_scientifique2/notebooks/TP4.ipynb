{
  "cells": [
    {
      "cell_type": "markdown",
      "metadata": {
        "id": "QYiVoaAK7JLo"
      },
      "source": [
        "# **TP 4 : Methode des éléments finis**"
      ]
    },
    {
      "cell_type": "code",
      "execution_count": 36,
      "metadata": {
        "id": "pIfpZY7m5Bu_"
      },
      "outputs": [],
      "source": [
        "import numpy as np\n",
        "import scipy as sp\n",
        "import scipy.sparse as spsp\n",
        "import scipy.sparse.linalg as spsplin\n",
        "import matplotlib.pyplot as plt\n",
        "import scipy.integrate as spint"
      ]
    },
    {
      "cell_type": "markdown",
      "metadata": {
        "id": "zytuGVw97dWL"
      },
      "source": [
        "L’objectif de ce TP est de programmer la méthode des éléments finis (1D) pour résoudre l’équation\n",
        "elliptique avec conditions aux limites de Dirichlet:\n",
        "\n",
        "$$\n",
        "    -u\"(x) + u(x) = f(x) \\quad \\text{pour } x \\in (0,1) \\\\\n",
        "    u(0) = u(1) = 0\n",
        "$$\n",
        "ou $f$ est une fonction donnée et $u$ est la solution cherchée."
      ]
    },
    {
      "cell_type": "markdown",
      "metadata": {
        "id": "lLtEpN5dCclm"
      },
      "source": [
        "## **Partie 1: (Elements finis `P1`)**"
      ]
    },
    {
      "cell_type": "markdown",
      "metadata": {},
      "source": [
        "**Question 1: Definition de la `class mesh`**"
      ]
    },
    {
      "cell_type": "code",
      "execution_count": 37,
      "metadata": {},
      "outputs": [],
      "source": [
        "class mesh:\n",
        "    def __init__(self, Nel, xmin, xmax):\n",
        "        self.Nel = Nel\n",
        "        self.xmin = xmin\n",
        "        self.xmax = xmax\n",
        "        self.nodes = np.empty(Nel+1)\n",
        "        self.h = np.empty(Nel)\n",
        "        self.deg = 0\n",
        "        self.dof = np.empty(self.deg*Nel+1)\n",
        "        self.Ndof = self.deg*Nel+1\n",
        "        \n",
        "        self.degEF = 2\n",
        "        self.dofEF = np.empty(self.degEF*(Nel+1), dtype=int)\n",
        "        self.NdofEF = self.degEF*(Nel+1)\n",
        "        \n",
        "        \n",
        "    \"\"\"\n",
        "        Question 11: ajoutons la fonction connect de la partie Partie3 (EF)\n",
        "    \"\"\"\n",
        "    def connect(self, el, k):\n",
        "        return self.degEF*el+k\n",
        "\n",
        "\n",
        "    def init_uniform(self):\n",
        "        # création d'un maillage uniforme\n",
        "        self.nodes = np.linspace(self.xmin, self.xmax, self.Nel + 1)\n",
        "        self.h = self.nodes[1:]-self.nodes[:-1]\n",
        "        \n",
        "    \"\"\" \n",
        "        Question 13: Ajoutons les fonctions init_randomEF et init_uniformEF de la partie Partie3 (EF)\n",
        "    \"\"\" \n",
        "        \n",
        "    def init_uniformEF(self):\n",
        "        # création d'un maillage uniforme\n",
        "        self.nodes = np.linspace(self.xmin, self.xmax, self.Nel + 1)\n",
        "        self.h = self.nodes[1:]-self.nodes[:-1]\n",
        "        for i in range(self.Nel + 1):\n",
        "            for j in range(self.degEF):\n",
        "                self.dofEF[self.degEF*i+j] = self.degEF*i+j\n",
        "                \n",
        "    def init_randomEF(self, Nel, xmin, xmax):\n",
        "        self.Nel = Nel\n",
        "        self.xmin = xmin\n",
        "        self.xmax = xmax\n",
        "        self.nodes = np.random.uniform(xmin, xmax, Nel + 1)\n",
        "        self.nodes[0] = self.xmin\n",
        "        self.nodes[-1] = self.xmax\n",
        "        self.nodes = np.sort(self.nodes)\n",
        "        self.h = self.nodes[1:]-self.nodes[:-1]\n",
        "        for i in range(self.Nel+1):\n",
        "            for j in range(self.degEF):\n",
        "                self.dofEF[self.degEF*i+j] = self.degEF*i+j\n",
        "\n",
        "    def init_random(self, Nel, xmin, xmax):\n",
        "        # création d'un maillage aléatoire\n",
        "        self.Nel = Nel\n",
        "        self.xmin = xmin\n",
        "        self.xmax = xmax\n",
        "        self.nodes = np.random.uniform(xmin, xmax, Nel + 1)\n",
        "        self.nodes[0] = self.xmin\n",
        "        self.nodes[-1] = self.xmax\n",
        "        self.nodes = np.sort(self.nodes)\n",
        "        self.h = self.nodes[1:]-self.nodes[:-1]\n",
        "\n",
        "    \n",
        "    def norm_P1(self, u):\n",
        "        # renvoie la norme L2 du vecteur u \n",
        "        L2_norm = 0\n",
        "        H1_seminorm = 0\n",
        "        # intégrale avec simpson\n",
        "        for i in range(1, self.Nel-1):\n",
        "            L2_norm += (u[i-1]**2 + u[i]**2) * self.h[i-1] / 2\n",
        "            H1_seminorm += ((u[i] - u[i-1])**2) * \\\n",
        "                self.h[i-1] / self.h[i]\n",
        "        return np.sqrt(L2_norm), np.sqrt(H1_seminorm)\n",
        "    \n",
        "    \n",
        "    \"\"\"\n",
        "        Question 16: Ajoutons une methode norm(self, u) qui renvoie la norme L2 du vecteur u\n",
        "    \"\"\"\n",
        "    def norm(self, u):\n",
        "        L2_norm=0\n",
        "        for l in range(self.Nel):\n",
        "            L2_norm += (self.h[l]/6)*(u[l]**2+4*u[l+1]**2+u[l+2]**2)\n",
        "            norme = np.sqrt(L2_norm)\n",
        "        return norme"
      ]
    },
    {
      "cell_type": "markdown",
      "metadata": {
        "id": "h0Wu7TOIVz7o"
      },
      "source": [
        "### Test de notre classe"
      ]
    },
    {
      "cell_type": "code",
      "execution_count": 38,
      "metadata": {},
      "outputs": [
        {
          "name": "stdout",
          "output_type": "stream",
          "text": [
            "Maillage uniforme : \n",
            "  [0.    0.125 0.25  0.375 0.5   0.625 0.75  0.875 1.   ]\n",
            "Le pas h : \n",
            " [0.125 0.125 0.125 0.125 0.125 0.125 0.125 0.125]\n",
            "Maillage random : \n",
            "  [0.         0.05516998 0.26039397 0.31730441 0.82143398 0.8565146\n",
            " 0.92963969 0.94777954 1.        ]\n",
            "Le pas h : \n",
            "  [0.05516998 0.20522399 0.05691044 0.50412957 0.03508062 0.07312508\n",
            " 0.01813985 0.05222046]\n"
          ]
        }
      ],
      "source": [
        "Nel = 8\n",
        "xmin = 0\n",
        "xmax = 1\n",
        "maillageU = mesh(Nel, xmin, xmax)\n",
        "maillageR = mesh(Nel, xmin, xmax)\n",
        "\n",
        "# maillage uniforme\n",
        "maillageU.init_uniform()\n",
        "\n",
        "# maillage aléatoire\n",
        "maillageR.init_random(Nel, xmin, xmax)\n",
        "\n",
        "# test de la classe mesh\n",
        "print(\"Maillage uniforme : \\n \", maillageU.nodes)\n",
        "print(\"Le pas h : \\n\", maillageU.h)\n",
        "\n",
        "print(\"Maillage random : \\n \", maillageR.nodes)\n",
        "print(\"Le pas h : \\n \", maillageR.h)"
      ]
    },
    {
      "cell_type": "markdown",
      "metadata": {
        "id": "wDejT-5ZWuno"
      },
      "source": [
        "**Question 3: Definition de la fonction `class fem`**"
      ]
    },
    {
      "cell_type": "code",
      "execution_count": 39,
      "metadata": {},
      "outputs": [],
      "source": [
        "class fem:\n",
        "    def __init__(self, mesh):\n",
        "        self.mesh = mesh\n",
        "\n",
        "    def matrixA_P1(self):\n",
        "        # matrice de rigidité P1\n",
        "        infdiag = -1/self.mesh.h[1:-1]+self.mesh.h[1:-1]/6\n",
        "        supdiag = infdiag\n",
        "        diag = 1/self.mesh.h[:-1] + 1/self.mesh.h[1:] + \\\n",
        "            self.mesh.h[:-1]/3 + self.mesh.h[1:]/3\n",
        "        A = spsp.diags([infdiag, diag, supdiag], [-1, 0, 1])\n",
        "        return A\n",
        "\n",
        "    def rhs_P1(self, f):\n",
        "        # second membre P1\n",
        "        h = self.mesh.h\n",
        "        n = self.mesh.nodes\n",
        "        rhs = ((h[1:]+h[:-1])/2)*f(n[1:-1])\n",
        "        return rhs\n",
        "\n",
        "    def solve(self, f, plot=True):\n",
        "        # résolution du problème P1\n",
        "        A = self.matrixA_P1()\n",
        "        b = self.rhs_P1(f)\n",
        "        A = A.tocsc()\n",
        "        u = spsplin.spsolve(A, b) # solution approchée\n",
        "        if plot:\n",
        "            import matplotlib.pyplot as plt\n",
        "            plt.plot(self.mesh.nodes[1:-1], u) # tracé de la solution approchée\n",
        "            plt.plot(self.mesh.nodes[1:-1],\n",
        "                     np.sin(np.pi*self.mesh.nodes[1:-1]))  # tracé de la solution exacte\n",
        "            plt.show()\n",
        "        err = np.abs(np.sin(np.pi*self.mesh.nodes[1:-1])-u) \n",
        "        res = self.mesh.norm_P1(err)[0]\n",
        "        return res\n",
        "    \n",
        "    \n",
        "    \"\"\"\n",
        "        Question 15: Ajoutons la fonction rhs(self, f) qui renvoie le second membre\n",
        "    \"\"\"\n",
        "    def rhs(self, f):\n",
        "        b = np.zeros(self.mesh.NdofEF)\n",
        "        for el in range(self.mesh.Nel):\n",
        "            for ni in range(self.mesh.degEF + 1):\n",
        "                i = self.mesh.connect(el, ni)\n",
        "                if 0 < i <= self.mesh.NdofEF:\n",
        "                    if i % 2 == 0:\n",
        "                        b[i-1] += self.mesh.h[el]*f(self.mesh.dofEF[i])/6\n",
        "                    else:\n",
        "                        b[i-1] += 4*self.mesh.h[el]*f(self.mesh.dofEF[i])/6\n",
        "        return b\n",
        "    \n",
        "    def MatrixA(self):\n",
        "        M = np.array([[2, 1, -0.5], [1, 8, 1], [-0.5, 1, 2]]) / 15\n",
        "        K = np.array([[7, -8, 1], [-8, 16, -8], [1, -8, 7]]) / 3\n",
        "        A = spsp.dok_matrix((self.mesh.NdofEF, self.mesh.NdofEF))\n",
        "        for el in range(self.mesh.Nel):\n",
        "            for ni in range(self.mesh.degEF+1):\n",
        "                i = self.mesh.connect(el, ni)\n",
        "                for nj in range(self.mesh.degEF+1):\n",
        "                    j = self.mesh.connect(el, nj)\n",
        "                    if 0 < i <= self.mesh.NdofEF and 0 < j <= self.mesh.NdofEF:\n",
        "                        A[i-1, j-1] += K[ni, nj] / self.mesh.h[el]\n",
        "                        A[i-1, j-1] += M[ni, nj] * self.mesh.h[el]\n",
        "        return A\n",
        "    \n",
        "    def  solveEF(self, f):\n",
        "        A = self.MatrixA()\n",
        "        A = A.tocsc()\n",
        "        A.setdiag(A.diagonal() + 1e-10)\n",
        "        b = self.rhs(f)\n",
        "        u = spsp.linalg.spsolve(A, b)\n",
        "        uexact = np.sin(np.pi*self.mesh.dofEF)\n",
        "        err = np.abs(uexact-u)\n",
        "        errr = self.mesh.norm(err)\n",
        "        return errr, u, uexact\n",
        "\n",
        "    \n",
        "    "
      ]
    },
    {
      "cell_type": "markdown",
      "metadata": {
        "id": "2c80ku3zgh45"
      },
      "source": [
        "### Testons la classe fem"
      ]
    },
    {
      "cell_type": "code",
      "execution_count": 40,
      "metadata": {
        "colab": {
          "base_uri": "https://localhost:8080/"
        },
        "id": "ClW1vatNgleH",
        "outputId": "0dde4fcf-4e2f-4e90-b8a3-a2a299829e72"
      },
      "outputs": [],
      "source": [
        "# on definit le maillage uniforme\n",
        "maillage = mesh(1000,0,1)\n",
        "maillage.init_uniform()\n",
        "\n",
        "# on passe le maillage a la classe fem\n",
        "femm = fem(maillage)\n"
      ]
    },
    {
      "cell_type": "markdown",
      "metadata": {
        "id": "cSADt5dGYQKe"
      },
      "source": [
        "**Question 4:**\n",
        "\n",
        " Determinons la taille et calculons l’expression des coefficients en fonctions des tailles des éléments `(hj)` "
      ]
    },
    {
      "cell_type": "markdown",
      "metadata": {
        "id": "4dKtvL80wSGK"
      },
      "source": [
        "La fonction de base est définie comme suit :\n",
        "\n",
        "$\\varPhi_{i}(x) = \\begin{cases}\n",
        "  \\dfrac{x - x_{i-1}}{h_{i-1}} \\ , si \\quad x\\in \\ [x_{i-1},x_i]\\\\\n",
        "  \\dfrac{x_{i+1} - x}{h_{i}} \\ ,si \\quad x\\in \\ [x_i, x_{i+1}]\\\\\n",
        "  0 \\ sinon\n",
        "  \\end{cases}$\n",
        "    \n",
        "\n",
        "Avec $\\quad h_{i-1}= x_i - x_{i-1}\\quad$ et $\\quad h_{i}= x_{i+1} - x_{i}$\n",
        "\n",
        "\n",
        "Et la dérivée est donnée par :\n",
        " \n",
        " $$\n",
        " \\phi^{'}_{i}(x)= \n",
        " \\begin{cases}\n",
        "    \\frac{1}{h_{i-1}} \\ x \\in [x_{i-1},x_{i}] \\\\\n",
        "    -\\frac{1}{h_{i}}  \\ x \\in [x_{i},x_{i+1}] \\\\\n",
        "    0 \\ sinon \n",
        "  \\end{cases}\n",
        "$$\n",
        "\n",
        "Déterminons les élements de la sur-diagonale :\n",
        "\n",
        "$\\varPhi_i\\varPhi_{i+1}(x) = \\begin{cases}\n",
        "  \\dfrac{(x_{i+1} - x)(x - x_i)}{h_{i}^2} \\ , x \\in \\ [x_i, x_{i+1}]\\\\\n",
        "  0 \\ sinon\n",
        "  \\end{cases}$ $\\quad et\\quad $ $\\varPhi'_i\\varPhi'_{i+1}(x) = \\begin{cases}\n",
        "  \\dfrac{ - 1}{h_{i}^2} \\ , x \\in \\ [x_i, x_{i+1}]\\\\\n",
        "  0 \\ sinon\n",
        "  \\end{cases}$\n",
        "Alors :\n",
        "\n",
        "$\\int_{x_i}^{x_{i+1}}(\\varPhi_i\\varPhi_{i+1}+ \\varPhi'_i\\varPhi'_{i+1})(x)dx = \\dfrac{-1}{h_i} + \\dfrac{h_i}{6}$ $\\quad avec \\quad$ $h_i = x_{i+1} - x_i$\n",
        "\n",
        "Détermonons les élements de la sous-diagonale :\n",
        "\n",
        "$\\varPhi_i\\varPhi_{i-1}(x) = \\begin{cases}\n",
        "  \\dfrac{(x_{i} - x)(x - x_{i-1})}{h_{i-1}^2} \\  ,x \\in  \\ [x_{i-1}, x_{i}]\\\\\n",
        "  0 \\ sinon\n",
        "  \\end{cases}$ $\\quad et\\quad $ $\\varPhi'_i\\varPhi'_{i-1}(x) = \\begin{cases}\n",
        "  \\dfrac{ - 1}{h_{i-1}^2} \\ , x \\in \\ [x_{i-1}, x_{i}]\\\\\n",
        "  0 \\ sinon\n",
        "  \\end{cases}$\n",
        "Alors :\n",
        "\n",
        "$\\int_{x_{i-1}}^{x_{i}}(\\varPhi_i\\varPhi_{i-1}+ \\varPhi'_i\\varPhi'_{i-1})(x)dx = \\dfrac{-1}{h_{i-1}} + \\dfrac{h_{i-1}}{6}$ $\\quad avec \\quad$ $h_i = x_{i-1} - x_i$\n",
        "\n",
        "De même on aura les élements de la diagonale \n",
        "\n",
        "$\\int_{x_{i-1}}^{x_{i+1}}(\\varPhi{_{i}^{2}}+ \\varPhi'{_i^2})(x)dx = \\dfrac{1}{h_{i-1}} + \\dfrac{1}{h_{i}}+ \\dfrac{h_{i-1}}{3} + \\dfrac{h_i}{3}$\n",
        "\n",
        "\n",
        "Ainsi les coefficients de la matrice sont donnés par:\n",
        "  \n",
        "$A_{ij} =0\\ à \\ si \\ |i-j| > 1$\n",
        "\n",
        "$A_{ii} = \\int_{x_{i-1}}^{x_{i+1}}(\\phi^{'}_{i}(x)^2 + \\phi_{i}(x)^2)dx =  \\frac{1}{h_{i-1}} +\\frac{1}{h_{i}}+  \\frac{1}{3}(h_{i-1}  + h_{i})$\n",
        "\n",
        "$A_{i,i+1}=\\int_{x_i}^{x_{i+1}} (\\phi_{i}^{'}(x)\\phi_{i+1}^{'}(x) + \\phi_{i+1}(x)\\phi_{i}(x))dx = -\\frac{1}{h_i} + \\frac{1}{6}h_{i}$\n",
        "\n",
        "$A_{i-1,i}=\\int_{x_{i-1}}^{x_{i}}(\\phi_{i-1}^{'}(x) \\phi_{i}^{'}(x)+ \\phi_{i-1}(x)\\phi_{i}(x))dx=-\\frac{1}{h_{i-1}}+\\frac{1}{6}h_{i-1}$\n",
        "\n",
        "\n",
        "\n",
        "\\begin{pmatrix}\n",
        "  \\ddots & \\ddots &   \\\\\n",
        "  \\ddots & \\ddots &  \\\\\n",
        "  \\cdots & &(-\\frac{1}{h_{i-1}}+\\frac{1}{6}h_{i-1}) & (\\frac{1}{h_{i-1}} +\\frac{1}{h_{i}}+   \\frac{1}{3}(h_{i-1}  + h_{i})) & (-\\frac{1}{h_{i}} + \\frac{1}{6}h_{i}) & \\cdots &  \\\\ \n",
        "         & \\\\ & \\ddots \\\\\n",
        "    & \\\\ &   & \\ddots & \\ddots & \\ddots\n",
        "\n",
        "\\end{pmatrix}\n",
        "\n",
        "\n",
        "\n"
      ]
    },
    {
      "cell_type": "markdown",
      "metadata": {
        "id": "kZ9ZF6ZoeNrn"
      },
      "source": [
        "**Question 5** :\n",
        "\n",
        "Toujours dans cette classe, définir la fonction rhs_P1(self,f) qui prend en entrée une fonction f et qui renvoie le tableau contenant une approximation du vecteur b \n",
        "\n",
        "\n",
        "(voir classe)"
      ]
    },
    {
      "cell_type": "markdown",
      "metadata": {
        "id": "7I6-s6mSbtw9"
      },
      "source": [
        "**Question 6** : \n",
        "\n",
        "Determinons `f(x)` pour tester notre méthode"
      ]
    },
    {
      "cell_type": "markdown",
      "metadata": {},
      "source": [
        "Determinons $f$ telle que $u(x) = \\sin(\\pi x)$ soit solution de l'équation.\n",
        "\n",
        "On a:\n",
        "$$\n",
        "  u(x) = \\sin(\\pi x) \\Rightarrow u'(x) = \\pi \\cos(\\pi x) \\Rightarrow u''(x) = -\\pi^2 \\sin(\\pi x)\n",
        "$$\n",
        "Ainsi on a:\n",
        "$$\n",
        "  - u''(x) + u(x) = \\pi^2 \\sin(\\pi x) + \\sin(\\pi x) = (\\pi^2 + 1) \\sin(\\pi x)\n",
        "$$\n",
        "Et alors $f(x) = (\\pi^2 + 1) \\sin(\\pi x)$."
      ]
    },
    {
      "cell_type": "code",
      "execution_count": 41,
      "metadata": {},
      "outputs": [],
      "source": [
        "## on la fonction f pour le second membre\n",
        "def f(x):\n",
        "    return (1 + np.pi**2)*np.sin(np.pi*x)\n"
      ]
    },
    {
      "cell_type": "markdown",
      "metadata": {
        "id": "U8sErauTcL7I"
      },
      "source": [
        "**Question 7:** \n",
        "\n",
        "Programmons la fonction `solve` (voir classe fem)"
      ]
    },
    {
      "cell_type": "markdown",
      "metadata": {
        "id": "26Ou97hmddY9"
      },
      "source": [
        "Definissons notre `u_exact` "
      ]
    },
    {
      "cell_type": "code",
      "execution_count": 42,
      "metadata": {
        "id": "xWOA2Vjzdqaw"
      },
      "outputs": [],
      "source": [
        "# definition de u_exact\n",
        "def u_exact(x):\n",
        "  return np.sin(np.pi*x)"
      ]
    },
    {
      "cell_type": "markdown",
      "metadata": {},
      "source": [
        "Affichage de la solution exacte et la solution approchée sur le même graphique"
      ]
    },
    {
      "cell_type": "code",
      "execution_count": 43,
      "metadata": {},
      "outputs": [
        {
          "data": {
            "image/png": "[encoded data removed]",
            "text/plain": [
              "<Figure size 640x480 with 1 Axes>"
            ]
          },
          "metadata": {},
          "output_type": "display_data"
        },
        {
          "data": {
            "text/plain": [
              "6.350636964034786e-07"
            ]
          },
          "execution_count": 43,
          "metadata": {},
          "output_type": "execute_result"
        }
      ],
      "source": [
        "## on cherche la solution approchee par la methode solve de la classe fem\n",
        "femm.solve(f, plot=True)"
      ]
    },
    {
      "cell_type": "markdown",
      "metadata": {
        "id": "ZGMOkXhVeJZY"
      },
      "source": []
    },
    {
      "cell_type": "markdown",
      "metadata": {
        "id": "tf-ft2-qmA_h"
      },
      "source": [
        "## **Partie 2: (Etude)**"
      ]
    },
    {
      "cell_type": "markdown",
      "metadata": {},
      "source": [
        "**Question 9:** \n",
        "\n",
        "Determinons l'ordre de convrgence numerique en tracant l'erreur en fonction de $h$ en echelle log-log."
      ]
    },
    {
      "cell_type": "code",
      "execution_count": 44,
      "metadata": {
        "colab": {
          "base_uri": "https://localhost:8080/"
        },
        "id": "RsD1-N4znHAX",
        "outputId": "b72b6efe-b670-4e3b-a194-4d47e5804bf4"
      },
      "outputs": [
        {
          "data": {
            "image/png": "[encoded data removed]",
            "text/plain": [
              "<Figure size 640x480 with 1 Axes>"
            ]
          },
          "metadata": {},
          "output_type": "display_data"
        }
      ],
      "source": [
        "liste = [20,40,80,160,320,640]\n",
        "h = []\n",
        "err = []\n",
        "for i in liste: \n",
        "    maillage = mesh(i, 0, 1)\n",
        "    maillage.init_uniform()\n",
        "    ef = fem(maillage)\n",
        "    err.append(ef.solve(f, plot=False))\n",
        "    h.append(np.max(maillage.h))\n",
        "err = np.array(err)\n",
        "h = np.array(h)\n",
        "plt.xlabel(\"h\")\n",
        "plt.ylabel(\"erreur L2\")\n",
        "plt.gca().invert_xaxis()\n",
        "plt.plot(h, err, 'o-', label=\"erreur L2\")\n",
        "plt.loglog()\n",
        "plt.legend()\n",
        "plt.show()"
      ]
    },
    {
      "cell_type": "markdown",
      "metadata": {},
      "source": [
        "**Question 10:** \n",
        "\n",
        "Affichons le contionnement de la matrice pour le maillage uniforme\n",
        "puis pour le maillage aléatoire pour différentes valeurs de Nel."
      ]
    },
    {
      "cell_type": "code",
      "execution_count": 45,
      "metadata": {},
      "outputs": [
        {
          "name": "stdout",
          "output_type": "stream",
          "text": [
            "Maillage uniforme: \n",
            "\n",
            "Conditionnment: \n",
            " [3.62557642e+01 1.46653325e+02 5.88251225e+02 2.35464473e+03\n",
            " 9.42021923e+03 3.76825173e+04 1.50731710e+05]\n",
            "\n",
            "Maillage random: \n",
            "\n",
            "Conditionnment: \n",
            " [1.82102984e+02 9.94237380e+02 1.23726744e+05 3.73362339e+04\n",
            " 7.89055934e+06 2.64024065e+07 5.80053282e+07]\n"
          ]
        }
      ],
      "source": [
        "Nel_list = [10, 20, 40, 80, 160, 320, 640]\n",
        "cond_list_uniform = []\n",
        "cond_list_random = []\n",
        "\n",
        "for Nel in Nel_list:\n",
        "    MeshU = mesh(Nel, 0, 1)\n",
        "    MeshU.init_uniform()\n",
        "    femm_u = fem(MeshU)\n",
        "    A_u = femm_u.matrixA_P1()\n",
        "    \n",
        "    cond_list_uniform.append(np.linalg.cond(A_u.todense()))\n",
        "    \n",
        "    MeshR = mesh(Nel, 0, 1)\n",
        "    MeshR.init_random(Nel, 0, 1)\n",
        "    femm_r = fem(MeshR)\n",
        "    A_r = femm_r.matrixA_P1()\n",
        "    cond_list_random.append(np.linalg.cond(A_r.todense()))\n",
        "\n",
        "cond_list_uniform = np.array(cond_list_uniform)\n",
        "cond_list_random = np.array(cond_list_random)\n",
        "\n",
        "print(\"Maillage uniforme: \\n\")\n",
        "print(\"Conditionnment: \\n\", cond_list_uniform)\n",
        "print()\n",
        "print(\"Maillage random: \\n\")\n",
        "print(\"Conditionnment: \\n\", cond_list_random)"
      ]
    },
    {
      "cell_type": "markdown",
      "metadata": {},
      "source": [
        "On observe que plus le nombre  d'element est grand, plus le conditionnement est eleve."
      ]
    },
    {
      "cell_type": "markdown",
      "metadata": {},
      "source": []
    },
    {
      "cell_type": "markdown",
      "metadata": {},
      "source": [
        "## **Partie 3:** Elements finis `P2`"
      ]
    },
    {
      "cell_type": "markdown",
      "metadata": {},
      "source": [
        "**Question 11:**\n",
        "\n",
        "voir classe `mesh`"
      ]
    },
    {
      "cell_type": "markdown",
      "metadata": {},
      "source": [
        "**Question 12:**\n",
        "\n",
        "voir classe `mesh`"
      ]
    },
    {
      "cell_type": "markdown",
      "metadata": {},
      "source": [
        "**Question 13:**\n",
        "\n",
        "voir classe `mesh`"
      ]
    },
    {
      "cell_type": "markdown",
      "metadata": {},
      "source": [
        "**Question 14:**\n",
        "\n",
        "Verifions que les matrices $M=(\\int_{[0,1]} \\phi_k \\phi_{k'} dx)_{0\\leq k,k^{'} \\leq deg}$ et $K = (\\int_{[0,1]} \\phi_k' \\phi_{k'}' dx)_{0\\leq k,k' \\leq deg}$ sont donnees par: \n",
        "\n",
        "`M = np.array([[2,1,-0.5], [1,8,1], [-0.5,1,2]]) / 15` \n",
        "\n",
        "et \n",
        "\n",
        "`K = np.array([[7,-8,1], [-8,16,-8], [1,-8,7]]) / 3`"
      ]
    },
    {
      "cell_type": "markdown",
      "metadata": {},
      "source": [
        "On a: \n",
        "$M=(\\int_{[0,1]} \\phi_i \\phi_j dx)_{0\\leq i,j \\leq deg}$\n",
        "\n",
        "Donc \n",
        "$$\n",
        "\n",
        "    M_{00} = \\int_{[0,1]} (2x-1)^2(x-1)^2 dx = \\frac{2}{15}\n",
        "$$\n",
        "\n",
        "$$\n",
        "    M_{01} = M_{10} = \\int_{[0,1]} -4x(2x-1)(x-1)^2 dx = \\frac{1}{15}\n",
        "$$\n",
        "\n",
        "$$\n",
        "    M_{02} = M_{20}= \\int_{[0,1]} x(2x-1)^2(x-1) dx = \\frac{-1}{30}\n",
        "$$\n",
        "\n",
        "$$\n",
        "M_{11} = \\int_{[0,1]} 16x^2(1-x)^2 dx = \\frac{8}{15}\n",
        "$$\n",
        "\n",
        "$$\n",
        "M_{12} = M_{21} = \\int_{[0,1]} 4x^2(2x-1)(1-x) dx = \\frac{1}{15}\n",
        "$$\n",
        "\n",
        "$$\n",
        "M_{22} = \\int_{[0,1]} x^2(2x-1)^2 dx = \\frac{2}{15}\n",
        "$$\n"
      ]
    },
    {
      "cell_type": "markdown",
      "metadata": {},
      "source": [
        "pareil verifionsque la matrice $K = (\\int_{[0,1]} \\phi_k' \\phi_{k'}' dx)_{0\\leq k,k' \\leq deg}$ est donnee par: `np.array([[7,-8,1], [-8,16,-8], [1,-8,7]]) / 3`"
      ]
    },
    {
      "cell_type": "markdown",
      "metadata": {},
      "source": [
        "on a:\n",
        "$$\n",
        "K_{00} = \\int_{[0,1]} 8(2x -1)(x-1)dx = \\frac{7}{3}\n",
        "$$\n",
        "\n",
        "$$\n",
        "K_{01} = K_{10} = \\int_{[0,1]} -16x(2x-1)(x-1)dx = \\frac{-8}{3}\n",
        "$$\n",
        "\n",
        "$$\n",
        "K_{02} = K_{20} = \\int_{[0,1]} 8x(2x-1)(x-1)dx = \\frac{1}{3}\n",
        "$$\n",
        "\n",
        "$$\n",
        "K_{11} = \\int_{[0,1]} 16x^2 dx = \\frac{16}{3}\n",
        "$$\n",
        "\n",
        "$$\n",
        "K_{12} = K_{21} = \\int_{[0,1]} -16x^2 dx = \\frac{-8}{3}\n",
        "$$\n",
        "\n",
        "$$\n",
        "K_{22} = \\int_{[0,1]} 8x(2x-1)dx = \\frac{7}{3}\n",
        "$$\n"
      ]
    },
    {
      "cell_type": "markdown",
      "metadata": {},
      "source": [
        "**Question 15:**\n",
        "\n",
        "Ajoutons la fonction `rhs(self,f)`  (voir classe `fem`)\n"
      ]
    },
    {
      "cell_type": "markdown",
      "metadata": {},
      "source": [
        "**Question 16:**\n",
        "\n",
        "Ajoutons la fonction `norm(self, u)` (voir classe `mesh`)"
      ]
    },
    {
      "cell_type": "markdown",
      "metadata": {},
      "source": [
        "**Question 17:** Etude da la convergence"
      ]
    },
    {
      "cell_type": "markdown",
      "metadata": {},
      "source": [
        "On definit une methode `solveEF(self)` dans la classe `fem` qui resoud le probleme avec la methode des elements finis et qui retourne l'erreur, la solution exacte et la solution approche."
      ]
    },
    {
      "cell_type": "code",
      "execution_count": 46,
      "metadata": {},
      "outputs": [
        {
          "name": "stdout",
          "output_type": "stream",
          "text": [
            "Solution exacte:  [ 0.00000000e+00  1.22464680e-16 -2.44929360e-16 ...  6.36184975e-14\n",
            " -6.42833292e-13  3.12553384e-13]\n",
            "\n",
            "Solution approchée:  [1.53507189e-16 3.07014083e-16 4.60521275e-16 ... 2.07804899e-13\n",
            " 0.00000000e+00 0.00000000e+00]\n",
            "\n",
            "Erreur L2:  1.4221589511374353e-13\n"
          ]
        }
      ],
      "source": [
        "## fONCTION DE SECOND MEMBRE\n",
        "def f(x):\n",
        "    return (1 + np.pi**2)*np.sin(np.pi*x)\n",
        "\n",
        "## TEST\n",
        "Mh = mesh(1000, 0, 1)\n",
        "Mh.init_uniformEF()\n",
        "\n",
        "Fem = fem(Mh)\n",
        "errr, u, uexact = Fem.solveEF(f)\n",
        "\n",
        "## Affichage des resultant\n",
        "print(\"Solution exacte: \", uexact)\n",
        "print()\n",
        "print(\"Solution approchée: \", u)\n",
        "print()\n",
        "print(\"Erreur L2: \", errr)"
      ]
    },
    {
      "cell_type": "markdown",
      "metadata": {},
      "source": [
        "Determiinons l'ordre de convergence numerique en tracant l'erreur en fonction de $h$ en echelle log-log."
      ]
    },
    {
      "cell_type": "code",
      "execution_count": 47,
      "metadata": {},
      "outputs": [
        {
          "data": {
            "image/png": "[encoded data removed]",
            "text/plain": [
              "<Figure size 640x480 with 1 Axes>"
            ]
          },
          "metadata": {},
          "output_type": "display_data"
        }
      ],
      "source": [
        "liste = [20,40,80,160,320,640]\n",
        "h = []\n",
        "err = []\n",
        "for i in liste: \n",
        "    maillage = mesh(i, 0, 1)\n",
        "    maillage.init_uniformEF()\n",
        "    ef = fem(maillage)\n",
        "    err.append(ef.solveEF(f)[0])\n",
        "    h.append(np.max(maillage.h))\n",
        "err = np.array(err)\n",
        "h = np.array(h)\n",
        "plt.xlabel(\"h\")\n",
        "plt.plot(h, err, 'o-')\n",
        "plt.loglog()\n",
        "plt.show()"
      ]
    },
    {
      "cell_type": "code",
      "execution_count": null,
      "metadata": {},
      "outputs": [],
      "source": []
    },
    {
      "cell_type": "markdown",
      "metadata": {},
      "source": []
    }
  ],
  "metadata": {
    "colab": {
      "provenance": []
    },
    "kernelspec": {
      "display_name": "Python 3",
      "name": "python3"
    },
    "language_info": {
      "codemirror_mode": {
        "name": "ipython",
        "version": 3
      },
      "file_extension": ".py",
      "mimetype": "text/x-python",
      "name": "python",
      "nbconvert_exporter": "python",
      "pygments_lexer": "ipython3",
      "version": "3.10.12"
    }
  },
  "nbformat": 4,
  "nbformat_minor": 0
}
